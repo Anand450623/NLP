{
 "cells": [
  {
   "cell_type": "code",
   "execution_count": 1,
   "metadata": {},
   "outputs": [],
   "source": [
    "import numpy as np"
   ]
  },
  {
   "cell_type": "code",
   "execution_count": 2,
   "metadata": {},
   "outputs": [],
   "source": [
    "from sklearn.datasets import load_iris"
   ]
  },
  {
   "cell_type": "code",
   "execution_count": 3,
   "metadata": {},
   "outputs": [],
   "source": [
    "iris = load_iris()"
   ]
  },
  {
   "cell_type": "code",
   "execution_count": 4,
   "metadata": {},
   "outputs": [
    {
     "data": {
      "text/plain": [
       "sklearn.utils.Bunch"
      ]
     },
     "execution_count": 4,
     "metadata": {},
     "output_type": "execute_result"
    }
   ],
   "source": [
    "type(iris)"
   ]
  },
  {
   "cell_type": "code",
   "execution_count": 5,
   "metadata": {},
   "outputs": [],
   "source": [
    "#print(iris.DESCR)"
   ]
  },
  {
   "cell_type": "code",
   "execution_count": 6,
   "metadata": {},
   "outputs": [],
   "source": [
    "X = iris.data"
   ]
  },
  {
   "cell_type": "code",
   "execution_count": 9,
   "metadata": {},
   "outputs": [],
   "source": [
    "y = iris.target"
   ]
  },
  {
   "cell_type": "code",
   "execution_count": 11,
   "metadata": {},
   "outputs": [],
   "source": [
    "from keras.utils import to_categorical"
   ]
  },
  {
   "cell_type": "code",
   "execution_count": 12,
   "metadata": {},
   "outputs": [],
   "source": [
    "y = to_categorical(y)"
   ]
  },
  {
   "cell_type": "code",
   "execution_count": 13,
   "metadata": {},
   "outputs": [
    {
     "data": {
      "text/plain": [
       "(150, 3)"
      ]
     },
     "execution_count": 13,
     "metadata": {},
     "output_type": "execute_result"
    }
   ],
   "source": [
    "y.shape"
   ]
  },
  {
   "cell_type": "code",
   "execution_count": 14,
   "metadata": {},
   "outputs": [],
   "source": [
    "#y"
   ]
  },
  {
   "cell_type": "code",
   "execution_count": 15,
   "metadata": {},
   "outputs": [],
   "source": [
    "from sklearn.model_selection import train_test_split"
   ]
  },
  {
   "cell_type": "code",
   "execution_count": 16,
   "metadata": {},
   "outputs": [],
   "source": [
    "X_train, X_test, y_train, y_test = train_test_split(X, y, test_size=0.33, random_state=42)"
   ]
  },
  {
   "cell_type": "code",
   "execution_count": 17,
   "metadata": {},
   "outputs": [],
   "source": [
    "from sklearn.preprocessing import MinMaxScaler"
   ]
  },
  {
   "cell_type": "code",
   "execution_count": 18,
   "metadata": {},
   "outputs": [],
   "source": [
    "scaler_object = MinMaxScaler()"
   ]
  },
  {
   "cell_type": "code",
   "execution_count": 19,
   "metadata": {},
   "outputs": [
    {
     "data": {
      "text/plain": [
       "MinMaxScaler(copy=True, feature_range=(0, 1))"
      ]
     },
     "execution_count": 19,
     "metadata": {},
     "output_type": "execute_result"
    }
   ],
   "source": [
    "scaler_object.fit(X_train)"
   ]
  },
  {
   "cell_type": "code",
   "execution_count": 20,
   "metadata": {},
   "outputs": [],
   "source": [
    "scaled_X_train = scaler_object.transform(X_train)"
   ]
  },
  {
   "cell_type": "code",
   "execution_count": 21,
   "metadata": {},
   "outputs": [],
   "source": [
    "scaled_X_test = scaler_object.transform(X_test)"
   ]
  },
  {
   "cell_type": "code",
   "execution_count": 22,
   "metadata": {},
   "outputs": [],
   "source": [
    "# scaled_X_train"
   ]
  },
  {
   "cell_type": "code",
   "execution_count": 32,
   "metadata": {},
   "outputs": [],
   "source": [
    "from keras.models import Sequential"
   ]
  },
  {
   "cell_type": "code",
   "execution_count": 33,
   "metadata": {},
   "outputs": [],
   "source": [
    "from keras.layers import Dense"
   ]
  },
  {
   "cell_type": "code",
   "execution_count": 34,
   "metadata": {},
   "outputs": [],
   "source": [
    "model = Sequential()"
   ]
  },
  {
   "cell_type": "code",
   "execution_count": 35,
   "metadata": {},
   "outputs": [],
   "source": [
    "model.add(Dense(8, input_dim=4, activation='relu'))\n",
    "model.add(Dense(8, activation='relu'))\n",
    "model.add(Dense(3, activation='softmax'))\n",
    "model.compile(loss='categorical_crossentropy', optimizer='adam', metrics=['accuracy'])"
   ]
  },
  {
   "cell_type": "code",
   "execution_count": 36,
   "metadata": {},
   "outputs": [
    {
     "name": "stdout",
     "output_type": "stream",
     "text": [
      "Model: \"sequential_3\"\n",
      "_________________________________________________________________\n",
      "Layer (type)                 Output Shape              Param #   \n",
      "=================================================================\n",
      "dense_4 (Dense)              (None, 8)                 40        \n",
      "_________________________________________________________________\n",
      "dense_5 (Dense)              (None, 8)                 72        \n",
      "_________________________________________________________________\n",
      "dense_6 (Dense)              (None, 3)                 27        \n",
      "=================================================================\n",
      "Total params: 139\n",
      "Trainable params: 139\n",
      "Non-trainable params: 0\n",
      "_________________________________________________________________\n"
     ]
    }
   ],
   "source": [
    "model.summary()"
   ]
  },
  {
   "cell_type": "code",
   "execution_count": 37,
   "metadata": {},
   "outputs": [
    {
     "name": "stdout",
     "output_type": "stream",
     "text": [
      "WARNING:tensorflow:From /home/anand/anaconda3/envs/nlp_course/lib/python3.7/site-packages/tensorflow/python/ops/math_ops.py:3066: to_int32 (from tensorflow.python.ops.math_ops) is deprecated and will be removed in a future version.\n",
      "Instructions for updating:\n",
      "Use tf.cast instead.\n",
      "Epoch 1/150\n",
      " - 2s - loss: 1.1028 - accuracy: 0.3400\n",
      "Epoch 2/150\n",
      " - 0s - loss: 1.0974 - accuracy: 0.3400\n",
      "Epoch 3/150\n",
      " - 0s - loss: 1.0916 - accuracy: 0.3400\n",
      "Epoch 4/150\n",
      " - 0s - loss: 1.0856 - accuracy: 0.3400\n",
      "Epoch 5/150\n",
      " - 0s - loss: 1.0798 - accuracy: 0.3400\n",
      "Epoch 6/150\n",
      " - 0s - loss: 1.0743 - accuracy: 0.3400\n",
      "Epoch 7/150\n",
      " - 0s - loss: 1.0693 - accuracy: 0.3400\n",
      "Epoch 8/150\n",
      " - 0s - loss: 1.0646 - accuracy: 0.3400\n",
      "Epoch 9/150\n",
      " - 0s - loss: 1.0605 - accuracy: 0.3400\n",
      "Epoch 10/150\n",
      " - 0s - loss: 1.0566 - accuracy: 0.3400\n",
      "Epoch 11/150\n",
      " - 0s - loss: 1.0528 - accuracy: 0.3400\n",
      "Epoch 12/150\n",
      " - 0s - loss: 1.0489 - accuracy: 0.3400\n",
      "Epoch 13/150\n",
      " - 0s - loss: 1.0451 - accuracy: 0.3400\n",
      "Epoch 14/150\n",
      " - 0s - loss: 1.0417 - accuracy: 0.3400\n",
      "Epoch 15/150\n",
      " - 0s - loss: 1.0376 - accuracy: 0.3500\n",
      "Epoch 16/150\n",
      " - 0s - loss: 1.0344 - accuracy: 0.3500\n",
      "Epoch 17/150\n",
      " - 0s - loss: 1.0307 - accuracy: 0.3500\n",
      "Epoch 18/150\n",
      " - 0s - loss: 1.0274 - accuracy: 0.3400\n",
      "Epoch 19/150\n",
      " - 0s - loss: 1.0243 - accuracy: 0.3400\n",
      "Epoch 20/150\n",
      " - 0s - loss: 1.0205 - accuracy: 0.3400\n",
      "Epoch 21/150\n",
      " - 0s - loss: 1.0170 - accuracy: 0.3600\n",
      "Epoch 22/150\n",
      " - 0s - loss: 1.0136 - accuracy: 0.3800\n",
      "Epoch 23/150\n",
      " - 0s - loss: 1.0099 - accuracy: 0.3800\n",
      "Epoch 24/150\n",
      " - 0s - loss: 1.0059 - accuracy: 0.4100\n",
      "Epoch 25/150\n",
      " - 0s - loss: 1.0014 - accuracy: 0.4500\n",
      "Epoch 26/150\n",
      " - 0s - loss: 0.9963 - accuracy: 0.4900\n",
      "Epoch 27/150\n",
      " - 0s - loss: 0.9908 - accuracy: 0.5100\n",
      "Epoch 28/150\n",
      " - 0s - loss: 0.9851 - accuracy: 0.5600\n",
      "Epoch 29/150\n",
      " - 0s - loss: 0.9793 - accuracy: 0.6100\n",
      "Epoch 30/150\n",
      " - 0s - loss: 0.9733 - accuracy: 0.6500\n",
      "Epoch 31/150\n",
      " - 0s - loss: 0.9671 - accuracy: 0.6700\n",
      "Epoch 32/150\n",
      " - 0s - loss: 0.9606 - accuracy: 0.6800\n",
      "Epoch 33/150\n",
      " - 0s - loss: 0.9545 - accuracy: 0.6800\n",
      "Epoch 34/150\n",
      " - 0s - loss: 0.9475 - accuracy: 0.6800\n",
      "Epoch 35/150\n",
      " - 0s - loss: 0.9404 - accuracy: 0.6800\n",
      "Epoch 36/150\n",
      " - 0s - loss: 0.9334 - accuracy: 0.6800\n",
      "Epoch 37/150\n",
      " - 0s - loss: 0.9261 - accuracy: 0.6800\n",
      "Epoch 38/150\n",
      " - 0s - loss: 0.9191 - accuracy: 0.6800\n",
      "Epoch 39/150\n",
      " - 0s - loss: 0.9119 - accuracy: 0.6800\n",
      "Epoch 40/150\n",
      " - 0s - loss: 0.9049 - accuracy: 0.6900\n",
      "Epoch 41/150\n",
      " - 0s - loss: 0.8976 - accuracy: 0.6900\n",
      "Epoch 42/150\n",
      " - 0s - loss: 0.8904 - accuracy: 0.6900\n",
      "Epoch 43/150\n",
      " - 0s - loss: 0.8831 - accuracy: 0.6900\n",
      "Epoch 44/150\n",
      " - 0s - loss: 0.8757 - accuracy: 0.6900\n",
      "Epoch 45/150\n",
      " - 0s - loss: 0.8681 - accuracy: 0.6900\n",
      "Epoch 46/150\n",
      " - 0s - loss: 0.8598 - accuracy: 0.6900\n",
      "Epoch 47/150\n",
      " - 0s - loss: 0.8511 - accuracy: 0.6900\n",
      "Epoch 48/150\n",
      " - 0s - loss: 0.8423 - accuracy: 0.6900\n",
      "Epoch 49/150\n",
      " - 0s - loss: 0.8338 - accuracy: 0.6900\n",
      "Epoch 50/150\n",
      " - 0s - loss: 0.8256 - accuracy: 0.6900\n",
      "Epoch 51/150\n",
      " - 0s - loss: 0.8180 - accuracy: 0.6900\n",
      "Epoch 52/150\n",
      " - 0s - loss: 0.8100 - accuracy: 0.6900\n",
      "Epoch 53/150\n",
      " - 0s - loss: 0.8022 - accuracy: 0.6900\n",
      "Epoch 54/150\n",
      " - 0s - loss: 0.7940 - accuracy: 0.6900\n",
      "Epoch 55/150\n",
      " - 0s - loss: 0.7858 - accuracy: 0.6900\n",
      "Epoch 56/150\n",
      " - 0s - loss: 0.7774 - accuracy: 0.6900\n",
      "Epoch 57/150\n",
      " - 0s - loss: 0.7693 - accuracy: 0.6900\n",
      "Epoch 58/150\n",
      " - 0s - loss: 0.7613 - accuracy: 0.6900\n",
      "Epoch 59/150\n",
      " - 0s - loss: 0.7536 - accuracy: 0.6900\n",
      "Epoch 60/150\n",
      " - 0s - loss: 0.7460 - accuracy: 0.6900\n",
      "Epoch 61/150\n",
      " - 0s - loss: 0.7386 - accuracy: 0.7000\n",
      "Epoch 62/150\n",
      " - 0s - loss: 0.7309 - accuracy: 0.7100\n",
      "Epoch 63/150\n",
      " - 0s - loss: 0.7235 - accuracy: 0.7100\n",
      "Epoch 64/150\n",
      " - 0s - loss: 0.7161 - accuracy: 0.7100\n",
      "Epoch 65/150\n",
      " - 0s - loss: 0.7091 - accuracy: 0.7100\n",
      "Epoch 66/150\n",
      " - 0s - loss: 0.7018 - accuracy: 0.7100\n",
      "Epoch 67/150\n",
      " - 0s - loss: 0.6947 - accuracy: 0.7200\n",
      "Epoch 68/150\n",
      " - 0s - loss: 0.6873 - accuracy: 0.7200\n",
      "Epoch 69/150\n",
      " - 0s - loss: 0.6802 - accuracy: 0.7100\n",
      "Epoch 70/150\n",
      " - 0s - loss: 0.6727 - accuracy: 0.7100\n",
      "Epoch 71/150\n",
      " - 0s - loss: 0.6656 - accuracy: 0.7100\n",
      "Epoch 72/150\n",
      " - 0s - loss: 0.6589 - accuracy: 0.7100\n",
      "Epoch 73/150\n",
      " - 0s - loss: 0.6517 - accuracy: 0.7100\n",
      "Epoch 74/150\n",
      " - 0s - loss: 0.6450 - accuracy: 0.7100\n",
      "Epoch 75/150\n",
      " - 0s - loss: 0.6383 - accuracy: 0.7200\n",
      "Epoch 76/150\n",
      " - 0s - loss: 0.6318 - accuracy: 0.7200\n",
      "Epoch 77/150\n",
      " - 0s - loss: 0.6255 - accuracy: 0.7400\n",
      "Epoch 78/150\n",
      " - 0s - loss: 0.6191 - accuracy: 0.7500\n",
      "Epoch 79/150\n",
      " - 0s - loss: 0.6131 - accuracy: 0.7600\n",
      "Epoch 80/150\n",
      " - 0s - loss: 0.6073 - accuracy: 0.7800\n",
      "Epoch 81/150\n",
      " - 0s - loss: 0.6014 - accuracy: 0.7800\n",
      "Epoch 82/150\n",
      " - 0s - loss: 0.5958 - accuracy: 0.7700\n",
      "Epoch 83/150\n",
      " - 0s - loss: 0.5904 - accuracy: 0.7700\n",
      "Epoch 84/150\n",
      " - 0s - loss: 0.5848 - accuracy: 0.7500\n",
      "Epoch 85/150\n",
      " - 0s - loss: 0.5794 - accuracy: 0.7600\n",
      "Epoch 86/150\n",
      " - 0s - loss: 0.5742 - accuracy: 0.7500\n",
      "Epoch 87/150\n",
      " - 0s - loss: 0.5692 - accuracy: 0.7500\n",
      "Epoch 88/150\n",
      " - 0s - loss: 0.5644 - accuracy: 0.7500\n",
      "Epoch 89/150\n",
      " - 0s - loss: 0.5603 - accuracy: 0.7400\n",
      "Epoch 90/150\n",
      " - 0s - loss: 0.5559 - accuracy: 0.7400\n",
      "Epoch 91/150\n",
      " - 0s - loss: 0.5514 - accuracy: 0.7200\n",
      "Epoch 92/150\n",
      " - 0s - loss: 0.5470 - accuracy: 0.7400\n",
      "Epoch 93/150\n",
      " - 0s - loss: 0.5427 - accuracy: 0.7400\n",
      "Epoch 94/150\n",
      " - 0s - loss: 0.5382 - accuracy: 0.7500\n",
      "Epoch 95/150\n",
      " - 0s - loss: 0.5342 - accuracy: 0.7500\n",
      "Epoch 96/150\n",
      " - 0s - loss: 0.5304 - accuracy: 0.7500\n",
      "Epoch 97/150\n",
      " - 0s - loss: 0.5266 - accuracy: 0.7500\n",
      "Epoch 98/150\n",
      " - 0s - loss: 0.5227 - accuracy: 0.7500\n",
      "Epoch 99/150\n",
      " - 0s - loss: 0.5185 - accuracy: 0.7600\n",
      "Epoch 100/150\n",
      " - 0s - loss: 0.5145 - accuracy: 0.7800\n",
      "Epoch 101/150\n",
      " - 0s - loss: 0.5102 - accuracy: 0.8200\n",
      "Epoch 102/150\n",
      " - 0s - loss: 0.5063 - accuracy: 0.8300\n",
      "Epoch 103/150\n",
      " - 0s - loss: 0.5027 - accuracy: 0.8400\n",
      "Epoch 104/150\n",
      " - 0s - loss: 0.4991 - accuracy: 0.8400\n",
      "Epoch 105/150\n",
      " - 0s - loss: 0.4953 - accuracy: 0.8400\n",
      "Epoch 106/150\n",
      " - 0s - loss: 0.4918 - accuracy: 0.8500\n",
      "Epoch 107/150\n",
      " - 0s - loss: 0.4885 - accuracy: 0.8500\n",
      "Epoch 108/150\n",
      " - 0s - loss: 0.4851 - accuracy: 0.8600\n",
      "Epoch 109/150\n",
      " - 0s - loss: 0.4819 - accuracy: 0.8600\n",
      "Epoch 110/150\n",
      " - 0s - loss: 0.4790 - accuracy: 0.8700\n",
      "Epoch 111/150\n",
      " - 0s - loss: 0.4759 - accuracy: 0.8700\n",
      "Epoch 112/150\n",
      " - 0s - loss: 0.4727 - accuracy: 0.8800\n",
      "Epoch 113/150\n",
      " - 0s - loss: 0.4697 - accuracy: 0.8700\n",
      "Epoch 114/150\n",
      " - 0s - loss: 0.4666 - accuracy: 0.8700\n",
      "Epoch 115/150\n",
      " - 0s - loss: 0.4639 - accuracy: 0.8700\n",
      "Epoch 116/150\n",
      " - 0s - loss: 0.4609 - accuracy: 0.8600\n",
      "Epoch 117/150\n",
      " - 0s - loss: 0.4581 - accuracy: 0.8600\n",
      "Epoch 118/150\n",
      " - 0s - loss: 0.4556 - accuracy: 0.8700\n",
      "Epoch 119/150\n",
      " - 0s - loss: 0.4524 - accuracy: 0.8700\n",
      "Epoch 120/150\n",
      " - 0s - loss: 0.4502 - accuracy: 0.8600\n",
      "Epoch 121/150\n",
      " - 0s - loss: 0.4475 - accuracy: 0.8600\n",
      "Epoch 122/150\n",
      " - 0s - loss: 0.4448 - accuracy: 0.8600\n",
      "Epoch 123/150\n",
      " - 0s - loss: 0.4420 - accuracy: 0.8700\n",
      "Epoch 124/150\n",
      " - 0s - loss: 0.4401 - accuracy: 0.8900\n",
      "Epoch 125/150\n",
      " - 0s - loss: 0.4372 - accuracy: 0.8900\n",
      "Epoch 126/150\n",
      " - 0s - loss: 0.4348 - accuracy: 0.8900\n",
      "Epoch 127/150\n",
      " - 0s - loss: 0.4325 - accuracy: 0.9100\n",
      "Epoch 128/150\n",
      " - 0s - loss: 0.4302 - accuracy: 0.9100\n",
      "Epoch 129/150\n",
      " - 0s - loss: 0.4280 - accuracy: 0.9100\n",
      "Epoch 130/150\n",
      " - 0s - loss: 0.4256 - accuracy: 0.9100\n",
      "Epoch 131/150\n",
      " - 0s - loss: 0.4231 - accuracy: 0.9100\n",
      "Epoch 132/150\n",
      " - 0s - loss: 0.4206 - accuracy: 0.9100\n",
      "Epoch 133/150\n",
      " - 0s - loss: 0.4185 - accuracy: 0.8900\n",
      "Epoch 134/150\n",
      " - 0s - loss: 0.4166 - accuracy: 0.8900\n",
      "Epoch 135/150\n",
      " - 0s - loss: 0.4145 - accuracy: 0.8900\n",
      "Epoch 136/150\n",
      " - 0s - loss: 0.4123 - accuracy: 0.8900\n",
      "Epoch 137/150\n",
      " - 0s - loss: 0.4107 - accuracy: 0.8700\n",
      "Epoch 138/150\n",
      " - 0s - loss: 0.4091 - accuracy: 0.8600\n",
      "Epoch 139/150\n",
      " - 0s - loss: 0.4075 - accuracy: 0.8600\n",
      "Epoch 140/150\n",
      " - 0s - loss: 0.4051 - accuracy: 0.8800\n",
      "Epoch 141/150\n",
      " - 0s - loss: 0.4031 - accuracy: 0.8800\n",
      "Epoch 142/150\n",
      " - 0s - loss: 0.4008 - accuracy: 0.8900\n",
      "Epoch 143/150\n",
      " - 0s - loss: 0.3988 - accuracy: 0.8900\n",
      "Epoch 144/150\n",
      " - 0s - loss: 0.3969 - accuracy: 0.8900\n",
      "Epoch 145/150\n",
      " - 0s - loss: 0.3948 - accuracy: 0.8900\n",
      "Epoch 146/150\n",
      " - 0s - loss: 0.3928 - accuracy: 0.9000\n",
      "Epoch 147/150\n",
      " - 0s - loss: 0.3905 - accuracy: 0.9100\n",
      "Epoch 148/150\n",
      " - 0s - loss: 0.3887 - accuracy: 0.9100\n",
      "Epoch 149/150\n",
      " - 0s - loss: 0.3870 - accuracy: 0.9100\n"
     ]
    },
    {
     "name": "stdout",
     "output_type": "stream",
     "text": [
      "Epoch 150/150\n",
      " - 0s - loss: 0.3850 - accuracy: 0.9200\n"
     ]
    },
    {
     "data": {
      "text/plain": [
       "<keras.callbacks.callbacks.History at 0x7f5054316d10>"
      ]
     },
     "execution_count": 37,
     "metadata": {},
     "output_type": "execute_result"
    }
   ],
   "source": [
    "model.fit(scaled_X_train, y_train, epochs=150, verbose=2)"
   ]
  },
  {
   "cell_type": "code",
   "execution_count": 38,
   "metadata": {},
   "outputs": [
    {
     "data": {
      "text/plain": [
       "array([1, 0, 2, 1, 2, 0, 1, 2, 2, 1, 2, 0, 0, 0, 0, 1, 2, 1, 1, 2, 0, 2,\n",
       "       0, 2, 2, 2, 2, 2, 0, 0, 0, 0, 1, 0, 0, 2, 1, 0, 0, 0, 2, 1, 2, 0,\n",
       "       0, 1, 2, 2, 1, 2])"
      ]
     },
     "execution_count": 38,
     "metadata": {},
     "output_type": "execute_result"
    }
   ],
   "source": [
    "model.predict_classes(scaled_X_test)"
   ]
  },
  {
   "cell_type": "code",
   "execution_count": 39,
   "metadata": {},
   "outputs": [],
   "source": [
    "predictions = model.predict_classes(scaled_X_test)"
   ]
  },
  {
   "cell_type": "code",
   "execution_count": 40,
   "metadata": {},
   "outputs": [
    {
     "data": {
      "text/plain": [
       "array([1, 0, 2, 1, 1, 0, 1, 2, 1, 1, 2, 0, 0, 0, 0, 1, 2, 1, 1, 2, 0, 2,\n",
       "       0, 2, 2, 2, 2, 2, 0, 0, 0, 0, 1, 0, 0, 2, 1, 0, 0, 0, 2, 1, 1, 0,\n",
       "       0, 1, 2, 2, 1, 2])"
      ]
     },
     "execution_count": 40,
     "metadata": {},
     "output_type": "execute_result"
    }
   ],
   "source": [
    "y_test.argmax(axis=1)"
   ]
  },
  {
   "cell_type": "code",
   "execution_count": 41,
   "metadata": {},
   "outputs": [],
   "source": [
    "from sklearn.metrics import confusion_matrix, classification_report, accuracy_score"
   ]
  },
  {
   "cell_type": "code",
   "execution_count": 42,
   "metadata": {},
   "outputs": [
    {
     "data": {
      "text/plain": [
       "array([[19,  0,  0],\n",
       "       [ 0, 12,  3],\n",
       "       [ 0,  0, 16]])"
      ]
     },
     "execution_count": 42,
     "metadata": {},
     "output_type": "execute_result"
    }
   ],
   "source": [
    "confusion_matrix(y_test.argmax(axis=1), predictions)"
   ]
  },
  {
   "cell_type": "code",
   "execution_count": 43,
   "metadata": {},
   "outputs": [
    {
     "name": "stdout",
     "output_type": "stream",
     "text": [
      "              precision    recall  f1-score   support\n",
      "\n",
      "           0       1.00      1.00      1.00        19\n",
      "           1       1.00      0.80      0.89        15\n",
      "           2       0.84      1.00      0.91        16\n",
      "\n",
      "   micro avg       0.94      0.94      0.94        50\n",
      "   macro avg       0.95      0.93      0.93        50\n",
      "weighted avg       0.95      0.94      0.94        50\n",
      "\n"
     ]
    }
   ],
   "source": [
    "print(classification_report(y_test.argmax(axis=1), predictions))"
   ]
  },
  {
   "cell_type": "code",
   "execution_count": 44,
   "metadata": {},
   "outputs": [
    {
     "data": {
      "text/plain": [
       "0.94"
      ]
     },
     "execution_count": 44,
     "metadata": {},
     "output_type": "execute_result"
    }
   ],
   "source": [
    "accuracy_score(y_test.argmax(axis=1), predictions)"
   ]
  },
  {
   "cell_type": "code",
   "execution_count": 45,
   "metadata": {},
   "outputs": [],
   "source": [
    "model.save('myfirstmodel.h5')"
   ]
  },
  {
   "cell_type": "code",
   "execution_count": 46,
   "metadata": {},
   "outputs": [],
   "source": [
    "from keras.models import load_model"
   ]
  },
  {
   "cell_type": "code",
   "execution_count": 47,
   "metadata": {},
   "outputs": [],
   "source": [
    "new_model = load_model('myfirstmodel.h5')"
   ]
  },
  {
   "cell_type": "code",
   "execution_count": 48,
   "metadata": {},
   "outputs": [
    {
     "data": {
      "text/plain": [
       "array([1, 0, 2, 1, 2, 0, 1, 2, 2, 1, 2, 0, 0, 0, 0, 1, 2, 1, 1, 2, 0, 2,\n",
       "       0, 2, 2, 2, 2, 2, 0, 0, 0, 0, 1, 0, 0, 2, 1, 0, 0, 0, 2, 1, 2, 0,\n",
       "       0, 1, 2, 2, 1, 2])"
      ]
     },
     "execution_count": 48,
     "metadata": {},
     "output_type": "execute_result"
    }
   ],
   "source": [
    "new_model.predict_classes(scaled_X_test)"
   ]
  },
  {
   "cell_type": "code",
   "execution_count": null,
   "metadata": {},
   "outputs": [],
   "source": []
  },
  {
   "cell_type": "code",
   "execution_count": null,
   "metadata": {},
   "outputs": [],
   "source": []
  }
 ],
 "metadata": {
  "kernelspec": {
   "display_name": "Python 3",
   "language": "python",
   "name": "python3"
  },
  "language_info": {
   "codemirror_mode": {
    "name": "ipython",
    "version": 3
   },
   "file_extension": ".py",
   "mimetype": "text/x-python",
   "name": "python",
   "nbconvert_exporter": "python",
   "pygments_lexer": "ipython3",
   "version": "3.7.7"
  }
 },
 "nbformat": 4,
 "nbformat_minor": 4
}
